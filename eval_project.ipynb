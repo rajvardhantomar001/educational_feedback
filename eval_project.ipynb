{
 "cells": [
  {
   "cell_type": "code",
   "execution_count": 13,
   "metadata": {},
   "outputs": [],
   "source": [
    "from langchain import OpenAI\n",
    "import openai\n",
    "import os\n",
    "from PyPDF2 import PdfReader"
   ]
  },
  {
   "cell_type": "markdown",
   "metadata": {},
   "source": []
  },
  {
   "cell_type": "code",
   "execution_count": null,
   "metadata": {},
   "outputs": [],
   "source": [
    "os.environ[\"GROQ_API_KEY\"] = \"\"\n",
    "openai.api_base = \"https://api.groq.com/openai/v1\"\n",
    "openai.api_key = os.environ.get(\"GROQ_API_KEY\")"
   ]
  },
  {
   "cell_type": "markdown",
   "metadata": {},
   "source": [
    "eval_project"
   ]
  },
  {
   "cell_type": "code",
   "execution_count": 15,
   "metadata": {},
   "outputs": [],
   "source": [
    "def extract_text_from_pdf(pdf_file):\n",
    "    \"\"\"Extract text from an uploaded PDF file.\"\"\"\n",
    "    pdf_reader = PdfReader(pdf_file)\n",
    "    extracted_text = \"\"\n",
    "    for page in pdf_reader.pages:\n",
    "        extracted_text += page.extract_text()\n",
    "    return extracted_text"
   ]
  },
  {
   "cell_type": "code",
   "execution_count": 16,
   "metadata": {},
   "outputs": [],
   "source": [
    "project = extract_text_from_pdf(\"F:/educational_feedback/test.pdf\")"
   ]
  },
  {
   "cell_type": "code",
   "execution_count": null,
   "metadata": {},
   "outputs": [],
   "source": [
    "max_marks = \"40\"\n",
    "class_stu = \"12\"\n",
    "subject = \"Production and Operations Management\"\n",
    "chapter_or_topic = \"PDCA\"\n",
    "project_title = \"Enhancing Mental Health Support for College Students\""
   ]
  },
  {
   "cell_type": "code",
   "execution_count": null,
   "metadata": {},
   "outputs": [],
   "source": [
    "prompt = f'''\n",
    "    You are a CBSE board project evaluator. You will be given the project details, maximum marks, expected deliverables, key parameters for evaluation, and marks distribution for each parameter. Based on the student's submission, evaluate the project by considering each parameter and deducting marks if requirements are not met.\n",
    "\n",
    "    Class: {class_stu}\n",
    "    Subject: {subject}\n",
    "    Chapter/Topic: {chapter_or_topic}\n",
    "    Project Title: {project_title}\n",
    "    Maximum Marks: {max_marks}\n",
    "\n",
    "    Below are the Evaluation Parameters: \n",
    "    1. Clarity of Objective\n",
    "    2. Depth of Research/Content\n",
    "    3. Originality and Creativity\n",
    "    4. Presentation and Organization\n",
    "    5. Practical Application or Relevance\n",
    "    6. Adherence to Guidelines\n",
    "\n",
    "    Judge the projects for on all the parameters. Divide maximum marks for all the parameters as per their importance. If any of the parameter is missing, deduct marks.\n",
    "\n",
    "    The Student's Project is: {str(project)}\n",
    "\n",
    "    Keep the account of following points as well:\n",
    "    1. Assess the project against each parameter listed above, assigning marks accordingly.\n",
    "    2. Deduct marks if any parameter is partially or fully missing, or if it does not meet the expected standard.\n",
    "    3. Provide specific feedback for areas needing improvement.\n",
    "\n",
    "    Use CBSE board rules to evaluate the answer.\n",
    "    Return the marks obtained and a suggestion to improve the answer.\n",
    "\n",
    "    Return it in the form of marks obtained, the suggestion.\n",
    "'''"
   ]
  },
  {
   "cell_type": "code",
   "execution_count": 19,
   "metadata": {},
   "outputs": [],
   "source": [
    "response = openai.ChatCompletion.create(\n",
    "    model=\"llama-3.1-70b-versatile\",  \n",
    "    messages=[\n",
    "        {\n",
    "            \"role\": \"system\",\n",
    "            \"content\": \"You are a helpful assistant who generates quizzes.\"\n",
    "        },\n",
    "        {\n",
    "            \"role\": \"user\",\n",
    "            \"content\": prompt\n",
    "        }\n",
    "    ],\n",
    "    temperature=0.5,  \n",
    "    max_tokens=1024,\n",
    "    top_p=1,\n",
    "    stop=None,\n",
    "    stream=False\n",
    ")"
   ]
  },
  {
   "cell_type": "code",
   "execution_count": null,
   "metadata": {},
   "outputs": [],
   "source": [
    "evaluation = response['choices'][0]['message']['content']"
   ]
  },
  {
   "cell_type": "code",
   "execution_count": null,
   "metadata": {},
   "outputs": [
    {
     "data": {
      "text/plain": [
       "'**Evaluation Report**\\n\\n**Project Title:** Enhancing Mental Health Support for College Students\\n\\n**Maximum Marks:** 40\\n\\n**Marks Distribution:**\\n\\n1. Clarity of Objective (8 marks)\\n2. Depth of Research/Content (10 marks)\\n3. Originality and Creativity (6 marks)\\n4. Presentation and Organization (6 marks)\\n5. Practical Application or Relevance (4 marks)\\n6. Adherence to Guidelines (6 marks)\\n\\n**Assessment:**\\n\\n1. **Clarity of Objective (8 marks)**\\nThe project clearly states its objective, which is to develop and implement a comprehensive mental health support system for college students. The objective is well-defined and easy to understand. (7/8 marks)\\n2. **Depth of Research/Content (10 marks)**\\nThe project demonstrates a good understanding of the topic, with a thorough literature review and references to relevant studies. However, some sections could be more detailed, and the analysis could be more in-depth. (8/10 marks)\\n3. **Originality and Creativity (6 marks)**\\nThe project presents a comprehensive approach to enhancing mental health support, but it does not offer many new or innovative ideas. Some sections, such as the use of technology, are well-explored, but others, like the role of faculty and staff, could be more creative. (4/6 marks)\\n4. **Presentation and Organization (6 marks)**\\nThe project is well-organized, and the presentation is clear and easy to follow. However, some sections could be more concise, and the use of headings and subheadings could be more consistent. (5/6 marks)\\n5. **Practical Application or Relevance (4 marks)**\\nThe project demonstrates a good understanding of the practical application of the proposed mental health support system. The plan is well-thought-out, and the implementation strategies are feasible. (3.5/4 marks)\\n6. **Adherence to Guidelines (6 marks)**\\nThe project follows the guidelines provided, with a clear introduction, objective, plan, and conclusion. However, some sections could be more concise, and the use of references could be more consistent. (5/6 marks)\\n\\n**Total Marks:** 32.5/40\\n\\n**Feedback and Suggestions for Improvement:**\\n\\n* Conduct more in-depth analysis of the literature review to provide a more comprehensive understanding of the topic.\\n* Consider adding more innovative ideas to the project, such as the use of artificial intelligence or machine learning to enhance mental health support.\\n* Use more consistent headings and subheadings to improve the presentation and organization of the project.\\n* Provide more concise and clear conclusions and recommendations for future work.\\n* Ensure that the references are consistently formatted and cited throughout the project.\\n\\nBy addressing these areas, the project can be improved to better meet the expected standards and demonstrate a more comprehensive understanding of the topic.'"
      ]
     },
     "execution_count": 21,
     "metadata": {},
     "output_type": "execute_result"
    }
   ],
   "source": [
    "evaluation"
   ]
  },
  {
   "cell_type": "code",
   "execution_count": null,
   "metadata": {},
   "outputs": [],
   "source": [
    "'''**Evaluation Report**\n",
    "\n",
    "**Project Title:** Enhancing Mental Health Support for College Students\n",
    "\n",
    "**Maximum Marks:** 40\n",
    "\n",
    "**Marks Distribution:**\n",
    "\n",
    "1. Clarity of Objective (8 marks)\n",
    "2. Depth of Research/Content (10 marks)\n",
    "3. Originality and Creativity (6 marks)\n",
    "4. Presentation and Organization (6 marks)\n",
    "5. Practical Application or Relevance (4 marks)\n",
    "6. Adherence to Guidelines (6 marks)\n",
    "\n",
    "**Assessment:**\n",
    "\n",
    "1. **Clarity of Objective (8 marks)**\n",
    "The project clearly states its objective, which is to develop and implement a comprehensive mental health support system for college students. The objective is well-defined and easy to understand. (7/8 marks)\n",
    "2. **Depth of Research/Content (10 marks)**\n",
    "The project demonstrates a good understanding of the topic, with a thorough literature review and references to relevant studies. However, some sections could be more detailed, and the analysis could be more in-depth. (8/10 marks)\n",
    "3. **Originality and Creativity (6 marks)**\n",
    "The project presents a comprehensive approach to enhancing mental health support, but it does not offer many new or innovative ideas. Some sections, such as the use of technology, are well-explored, but others, like the role of faculty and staff, could be more creative. (4/6 marks)\n",
    "4. **Presentation and Organization (6 marks)**\n",
    "The project is well-organized, and the presentation is clear and easy to follow. However, some sections could be more concise, and the use of headings and subheadings could be more consistent. (5/6 marks)\n",
    "5. **Practical Application or Relevance (4 marks)**\n",
    "The project demonstrates a good understanding of the practical application of the proposed mental health support system. The plan is well-thought-out, and the implementation strategies are feasible. (3.5/4 marks)\n",
    "6. **Adherence to Guidelines (6 marks)**\n",
    "The project follows the guidelines provided, with a clear introduction, objective, plan, and conclusion. However, some sections could be more concise, and the use of references could be more consistent. (5/6 marks)\n",
    "\n",
    "**Total Marks:** 32.5/40\n",
    "\n",
    "**Feedback and Suggestions for Improvement:**\n",
    "\n",
    "* Conduct more in-depth analysis of the literature review to provide a more comprehensive understanding of the topic.\n",
    "* Consider adding more innovative ideas to the project, such as the use of artificial intelligence or machine learning to enhance mental health support.\n",
    "* Use more consistent headings and subheadings to improve the presentation and organization of the project.\n",
    "* Provide more concise and clear conclusions and recommendations for future work.\n",
    "* Ensure that the references are consistently formatted and cited throughout the project.\n",
    "\n",
    "By addressing these areas, the project can be improved to better meet the expected standards and demonstrate a more comprehensive understanding of the topic.'''"
   ]
  }
 ],
 "metadata": {
  "kernelspec": {
   "display_name": "venv",
   "language": "python",
   "name": "python3"
  },
  "language_info": {
   "codemirror_mode": {
    "name": "ipython",
    "version": 3
   },
   "file_extension": ".py",
   "mimetype": "text/x-python",
   "name": "python",
   "nbconvert_exporter": "python",
   "pygments_lexer": "ipython3",
   "version": "3.12.7"
  }
 },
 "nbformat": 4,
 "nbformat_minor": 2
}
